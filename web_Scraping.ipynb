{
 "cells": [
  {
   "cell_type": "code",
   "execution_count": 3,
   "metadata": {
    "scrolled": true
   },
   "outputs": [
    {
     "name": "stdout",
     "output_type": "stream",
     "text": [
      "https://images.pexels.com/photos/207962/pexels-photo-207962.jpeg\n",
      "207962.jpeg\n",
      "https://images.pexels.com/photos/1210273/pexels-photo-1210273.jpeg\n",
      "1210273.jpeg\n",
      "https://images.pexels.com/photos/887349/pexels-photo-887349.jpeg\n",
      "887349.jpeg\n",
      "https://images.pexels.com/photos/1028725/pexels-photo-1028725.jpeg\n",
      "1028725.jpeg\n",
      "https://images.pexels.com/photos/433267/pexels-photo-433267.jpeg\n",
      "433267.jpeg\n",
      "https://images.pexels.com/photos/256737/pexels-photo-256737.jpeg\n",
      "256737.jpeg\n",
      "https://images.pexels.com/photos/255441/pexels-photo-255441.jpeg\n",
      "255441.jpeg\n",
      "https://images.pexels.com/photos/266642/pexels-photo-266642.jpeg\n",
      "266642.jpeg\n",
      "https://images.pexels.com/photos/1036843/pexels-photo-1036843.jpeg\n",
      "1036843.jpeg\n",
      "https://images.pexels.com/photos/269583/pexels-photo-269583.jpeg\n",
      "269583.jpeg\n",
      "https://images.pexels.com/photos/704748/pexels-photo-704748.jpeg\n",
      "704748.jpeg\n"
     ]
    }
   ],
   "source": [
    "from bs4 import BeautifulSoup\n",
    "import urllib3\n",
    "import requests\n",
    "from requests.packages.urllib3.exceptions import InsecureRequestWarning\n",
    "requests.packages.urllib3.disable_warnings(InsecureRequestWarning)\n",
    "import re\n",
    "import datetime\n",
    "import os\n",
    "import urllib\n",
    "import urllib.request\n",
    "import datetime\n",
    "\n",
    "time=(datetime.datetime.now())\n",
    "\n",
    "\n",
    "http = urllib3.PoolManager()\n",
    "\n",
    "\n",
    "url = 'https://www.pexels.com/search/heart/'\n",
    "response = http.request('GET', url)\n",
    "soup = BeautifulSoup(response.data, \"html.parser\")\n",
    "images = []\n",
    "for img in soup.findAll('img'):\n",
    "    images.append(img.get('src'))\n",
    "    \n",
    "import urllib.request\n",
    "\n",
    "opener=urllib.request.build_opener()\n",
    "opener.addheaders=[('User-Agent','Mozilla/5.0 (Windows NT 6.1; WOW64) AppleWebKit/537.36 (KHTML, like Gecko) Chrome/36.0.1941.0 Safari/537.36')]\n",
    "urllib.request.install_opener(opener)\n",
    "\n",
    "\n",
    "for item in images:\n",
    "    try:\n",
    "        s=re.search(\"(?P<url>https?://[^\\s]+)\", item).group(\"url\")\n",
    "        filename=(s.split('?')[0])\n",
    "        image_name=(filename.split('photo-')[1])\n",
    "        \n",
    "  \n",
    "       \n",
    "        print(filename)\n",
    "        print(image_name)\n",
    "        \n",
    "        urllib.request.urlretrieve(filename,image_name)\n",
    "        \n",
    "    except:\n",
    "        pass\n",
    "\n",
    "\n",
    "\n",
    "\n"
   ]
  }
 ],
 "metadata": {
  "kernelspec": {
   "display_name": "Python 3",
   "language": "python",
   "name": "python3"
  },
  "language_info": {
   "codemirror_mode": {
    "name": "ipython",
    "version": 3
   },
   "file_extension": ".py",
   "mimetype": "text/x-python",
   "name": "python",
   "nbconvert_exporter": "python",
   "pygments_lexer": "ipython3",
   "version": "3.7.3"
  }
 },
 "nbformat": 4,
 "nbformat_minor": 2
}
